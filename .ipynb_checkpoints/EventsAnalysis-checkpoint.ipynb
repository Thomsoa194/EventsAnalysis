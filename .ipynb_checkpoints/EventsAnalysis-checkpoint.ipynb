{
 "cells": [
  {
   "cell_type": "markdown",
   "id": "68434f43",
   "metadata": {},
   "source": [
    "# Hanson Wade Events Exploratory Analysis"
   ]
  },
  {
   "cell_type": "markdown",
   "id": "35465345",
   "metadata": {},
   "source": [
    "* Which events had the most attendees?\n",
    "* Which of the events generated the most Revenue?\n",
    "\n"
   ]
  },
  {
   "cell_type": "markdown",
   "id": "a0a84540",
   "metadata": {},
   "source": []
  },
  {
   "cell_type": "code",
   "execution_count": null,
   "id": "c9e80512",
   "metadata": {},
   "outputs": [],
   "source": []
  }
 ],
 "metadata": {
  "kernelspec": {
   "display_name": "Python 3",
   "language": "python",
   "name": "python3"
  },
  "language_info": {
   "codemirror_mode": {
    "name": "ipython",
    "version": 3
   },
   "file_extension": ".py",
   "mimetype": "text/x-python",
   "name": "python",
   "nbconvert_exporter": "python",
   "pygments_lexer": "ipython3",
   "version": "3.9.1"
  }
 },
 "nbformat": 4,
 "nbformat_minor": 5
}
